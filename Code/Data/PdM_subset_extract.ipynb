{
 "cells": [
  {
   "cell_type": "markdown",
   "metadata": {},
   "source": [
    "### Extract 100 time series, each with 100 data points, from PdM_telemetry.csv.\n",
    "\n",
    "To ensure diversity, we used different attributes for specific groups of machines: the \"voltage\" attribute for machines 1-25, \"rotation\" for machines 26-50, \"pressure\" for machines 51-75, and \"vibration\" for machines 76-100. This process resulted in 100 distinct time series, each containing 100 time points."
   ]
  },
  {
   "cell_type": "code",
   "execution_count": 1,
   "metadata": {},
   "outputs": [
    {
     "name": "stderr",
     "output_type": "stream",
     "text": [
      "/var/folders/fh/x42m5xbn25d25fy3bskk3jkm0000gn/T/ipykernel_81105/3846124247.py:7: UserWarning: Could not infer format, so each element will be parsed individually, falling back to `dateutil`. To ensure parsing is consistent and as-expected, please specify a format.\n",
      "  df['datetime'] = pd.to_datetime(df['datetime'])\n"
     ]
    },
    {
     "name": "stdout",
     "output_type": "stream",
     "text": [
      "100 time series extracted successfully.\n"
     ]
    }
   ],
   "source": [
    "import pandas as pd\n",
    "\n",
    "# Read in csv file\n",
    "file_path = \"PdM_telemetry.csv\" \n",
    "df = pd.read_csv(file_path)\n",
    "\n",
    "df['datetime'] = pd.to_datetime(df['datetime'])\n",
    "\n",
    "time_series_data = {}\n",
    "\n",
    "for machine_id in range(1, 101):\n",
    "    machine_data = df[df['machineID'] == machine_id].sort_values(by=\"datetime\")\n",
    "    \n",
    "    # select 900-1000 data points\n",
    "    selected_data = machine_data.iloc[900:1000]\n",
    "    # select first 1000 data points\n",
    "    # selected_data = machine_data.iloc[:1000] # for Chronos\n",
    "    \n",
    "    # Different variable column for each machine group\n",
    "    if 1 <= machine_id <= 25:\n",
    "        attribute = \"volt\"\n",
    "    elif 26 <= machine_id <= 50:\n",
    "        attribute = \"rotate\"\n",
    "    elif 51 <= machine_id <= 75:\n",
    "        attribute = \"pressure\"\n",
    "    else:\n",
    "        attribute = \"vibration\"\n",
    "    \n",
    "    time_series = selected_data[['datetime', attribute]].reset_index(drop=True)\n",
    "    time_series[attribute] = time_series[attribute].round(2)\n",
    "    time_series_data[machine_id] = time_series\n",
    "\n",
    "# for machine_id, ts_data in time_series_data.items():\n",
    "#     ts_data.to_csv(f\"PdM_time_series_machine_{machine_id}.csv\", index=False)\n",
    "\n",
    "# write 100 time series into a single excel with 100 sheets\n",
    "with pd.ExcelWriter(\"PdM_machine_time_series.xlsx\") as writer:\n",
    "# with pd.ExcelWriter(\"Chronos_PdM_machine_time_series.xlsx\") as writer:\n",
    "    for machine_id, ts_data in time_series_data.items():\n",
    "        ts_data.to_excel(writer, sheet_name=f\"Machine_{machine_id}\", index=False)\n",
    "\n",
    "print(\"100 time series extracted successfully.\")\n"
   ]
  },
  {
   "cell_type": "markdown",
   "metadata": {},
   "source": [
    "### 100 time series for slope calculation task, trend & noise need to be added to the extracted data."
   ]
  },
  {
   "cell_type": "code",
   "execution_count": null,
   "metadata": {},
   "outputs": [
    {
     "name": "stdout",
     "output_type": "stream",
     "text": [
      "Data transformation complete.\n"
     ]
    }
   ],
   "source": [
    "## Positive slope\n",
    "\n",
    "import pandas as pd\n",
    "\n",
    "# Define transformation parameters\n",
    "trend = 2\n",
    "noise = 6\n",
    "\n",
    "# Load the Excel file\n",
    "# excel_file = \"PdM_machine_time_series.xlsx\"\n",
    "excel_file = \"Chronos_PdM_machine_time_series.xlsx\" # for Chronos\n",
    "\n",
    "# Read all sheets into a dictionary\n",
    "all_sheets = pd.read_excel(excel_file, sheet_name=None)\n",
    "\n",
    "# Process each sheet\n",
    "modified_sheets = {}\n",
    "\n",
    "for sheet_name, df in all_sheets.items():\n",
    "    # Identify the attribute column (excluding datetime)\n",
    "    attribute = df.columns[1]  # Second column contains the attribute\n",
    "    \n",
    "    # Rename the attribute column to \"modified_{attribute}\"\n",
    "    modified_attribute = f\"mod_{attribute}\"\n",
    "    \n",
    "    # Apply transformation: modified_data = original_data * trend + noise\n",
    "    df[modified_attribute] = df[attribute] + (df.index + 1) * trend + noise\n",
    "    \n",
    "    # Keep only the datetime column and the modified attribute\n",
    "    df = df[['datetime', modified_attribute]]\n",
    "    \n",
    "    # Store the modified DataFrame\n",
    "    modified_sheets[sheet_name] = df\n",
    "\n",
    "# Save the modified data into a new Excel file\n",
    "# modified_excel_file = \"PdM_modified_machine_time_series.xlsx\"\n",
    "modified_excel_file = \"Chronos_PdM_modified_machine_time_series.xlsx\"\n",
    "\n",
    "with pd.ExcelWriter(modified_excel_file) as writer:\n",
    "    for sheet_name, df in modified_sheets.items():\n",
    "        df.to_excel(writer, sheet_name=sheet_name, index=False)\n",
    "\n",
    "print(\"Data transformation complete.\")"
   ]
  },
  {
   "cell_type": "code",
   "execution_count": null,
   "metadata": {},
   "outputs": [],
   "source": [
    "import pandas as pd\n",
    "\n",
    "excel_path = 'Chronos_PdM_modified_slope_calc.xlsx'\n",
    "\n",
    "excel_file = pd.ExcelFile(excel_path)\n",
    "\n",
    "sheet_names = excel_file.sheet_names\n",
    "\n",
    "new_excel = pd.ExcelWriter('PdM_machine_time_series.xlsx')\n",
    "\n",
    "for sheet_name in sheet_names:\n",
    "    df = excel_file.parse(sheet_name)\n",
    "\n",
    "    last_100 = df.tail(100)\n",
    "\n",
    "    last_100.to_excel(new_excel, sheet_name=sheet_name, index=False)\n",
    "\n",
    "new_excel.close()"
   ]
  },
  {
   "cell_type": "code",
   "execution_count": null,
   "metadata": {},
   "outputs": [],
   "source": [
    "## Negative Slope\n",
    "\n",
    "# Define transformation parameters\n",
    "trend = -2\n",
    "noise = 6\n",
    "\n",
    "# Load the Excel file\n",
    "excel_file = \"PdM_machine_time_series.xlsx\"\n",
    "\n",
    "# Read all sheets into a dictionary\n",
    "all_sheets = pd.read_excel(excel_file, sheet_name=None)\n",
    "\n",
    "# Process each sheet\n",
    "modified_sheets = {}\n",
    "\n",
    "for sheet_name, df in all_sheets.items():\n",
    "    # Identify the attribute column (excluding datetime)\n",
    "    attribute = df.columns[1]  # Second column contains the attribute\n",
    "    \n",
    "    # Rename the attribute column to \"modified_{attribute}\"\n",
    "    modified_attribute = f\"mod_{attribute}\"\n",
    "    \n",
    "    # Apply transformation: modified_data = original_data * trend + noise\n",
    "    df[modified_attribute] = df[attribute] + (df.index + 1) * trend + noise\n",
    "    \n",
    "    # Keep only the datetime column and the modified attribute\n",
    "    df = df[['datetime', modified_attribute]]\n",
    "    \n",
    "    # Store the modified DataFrame\n",
    "    modified_sheets[sheet_name] = df\n",
    "\n",
    "# Save the modified data into a new Excel file\n",
    "modified_excel_file = \"neg_modified_machine_time_series.xlsx\"\n",
    "\n",
    "with pd.ExcelWriter(modified_excel_file) as writer:\n",
    "    for sheet_name, df in modified_sheets.items():\n",
    "        df.to_excel(writer, sheet_name=sheet_name, index=False)\n",
    "\n",
    "print(\"Data transformation complete. Negative Modified Excel file saved as 'neg_modified_machine_time_series.xlsx'.\")"
   ]
  },
  {
   "cell_type": "markdown",
   "metadata": {},
   "source": [
    "### 20 time series for forecasting, with 200, 500, 2000, 5000, and all data (8761) for each of 4 variables from machine 1"
   ]
  },
  {
   "cell_type": "code",
   "execution_count": 2,
   "metadata": {},
   "outputs": [
    {
     "name": "stderr",
     "output_type": "stream",
     "text": [
      "/var/folders/fh/x42m5xbn25d25fy3bskk3jkm0000gn/T/ipykernel_32733/3650173335.py:8: UserWarning: Could not infer format, so each element will be parsed individually, falling back to `dateutil`. To ensure parsing is consistent and as-expected, please specify a format.\n",
      "  df['datetime'] = pd.to_datetime(df['datetime'])\n"
     ]
    },
    {
     "name": "stdout",
     "output_type": "stream",
     "text": [
      "Data extraction complete. Saved as 'PdM_forecasting.xlsx'.\n"
     ]
    }
   ],
   "source": [
    "import pandas as pd\n",
    "\n",
    "# Load the dataset\n",
    "file_path = \"PdM_telemetry.csv\"  # Replace with actual file path\n",
    "df = pd.read_csv(file_path)\n",
    "\n",
    "# Ensure datetime is correctly parsed\n",
    "df['datetime'] = pd.to_datetime(df['datetime'])\n",
    "\n",
    "# Filter data for machine_id = 1\n",
    "machine_df = df[df['machineID'] == 1].sort_values(by=\"datetime\")\n",
    "\n",
    "# Variables to extract\n",
    "variables = [\"volt\", \"rotate\", \"pressure\", \"vibration\"]\n",
    "sample_sizes = [200, 500, 2000, 5000, len(machine_df)]  # Including full dataset\n",
    "\n",
    "# Dictionary to store extracted subsets\n",
    "extracted_data = {}\n",
    "\n",
    "# Extract subsets for each variable\n",
    "for var in variables:\n",
    "    for size in sample_sizes:\n",
    "        subset_name = f\"{var}_{size}\"\n",
    "        extracted_data[subset_name] = machine_df[['datetime', var]].iloc[:size]\n",
    "\n",
    "# Save extracted subsets to an Excel file with multiple sheets\n",
    "output_file = \"PdM_forecasting.xlsx\"\n",
    "\n",
    "with pd.ExcelWriter(output_file) as writer:\n",
    "    for subset_name, df_subset in extracted_data.items():\n",
    "        df_subset.to_excel(writer, sheet_name=subset_name, index=False)\n",
    "\n",
    "print(\"Data extraction complete. Saved as 'PdM_forecasting.xlsx'.\")"
   ]
  }
 ],
 "metadata": {
  "kernelspec": {
   "display_name": "base",
   "language": "python",
   "name": "python3"
  },
  "language_info": {
   "codemirror_mode": {
    "name": "ipython",
    "version": 3
   },
   "file_extension": ".py",
   "mimetype": "text/x-python",
   "name": "python",
   "nbconvert_exporter": "python",
   "pygments_lexer": "ipython3",
   "version": "3.11.5"
  }
 },
 "nbformat": 4,
 "nbformat_minor": 2
}
